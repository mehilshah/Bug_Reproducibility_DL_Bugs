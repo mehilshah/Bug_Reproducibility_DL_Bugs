{
  "cells": [
    {
      "cell_type": "code",
      "execution_count": null,
      "metadata": {
        "colab": {
          "base_uri": "https://localhost:8080/"
        },
        "id": "h_dCEbHSznC1",
        "outputId": "5eebefac-ab45-4bef-cd9e-0f16a7f4688b"
      },
      "outputs": [
        {
          "name": "stdout",
          "output_type": "stream",
          "text": [
            "        Source    SS  DF1  DF2      MS          F     p-unc       np2  \\\n",
            "0     Guidance  4.00    1   78  4.0000  18.097448  0.000058  0.188324   \n",
            "1        Trial  0.29    4  312  0.0725   0.395385  0.811917  0.005043   \n",
            "2  Interaction  0.10    4  312  0.0250   0.136340  0.968806  0.001745   \n",
            "\n",
            "        eps  \n",
            "0       NaN  \n",
            "1  0.943515  \n",
            "2       NaN  \n"
          ]
        }
      ],
      "source": [
        "import pandas as pd\n",
        "import pingouin as pg\n",
        "\n",
        "unaugmented_data = pd.read_csv(\"LLaMA_Unaugmented.csv\")\n",
        "augmented_data = pd.read_csv(\"LLaMa_Augmented.csv\")\n",
        "unaugmented_data[\"Bug ID\"] = unaugmented_data[\"Bug ID\"].astype(int)\n",
        "augmented_data[\"Bug ID\"] = augmented_data[\"Bug ID\"].astype(int)\n",
        "\n",
        "augmented_data[\"Bug ID\"] = augmented_data[\"Bug ID\"] + 1000000\n",
        "unaugmented_data_melt = pd.melt(unaugmented_data, id_vars=[\"Bug ID\"], value_vars=[\"Trial 1\", \"Trial 2\", \"Trial 3\", \"Trial 4\", \"Trial 5\"], var_name=\"Trial\", value_name=\"Score\")\n",
        "augmented_data_melt = pd.melt(augmented_data, id_vars=[\"Bug ID\"], value_vars=[\"Trial 1\", \"Trial 2\", \"Trial 3\", \"Trial 4\", \"Trial 5\"], var_name=\"Trial\", value_name=\"Score\")\n",
        "\n",
        "unaugmented_data_melt[\"Guidance\"] = 0\n",
        "augmented_data_melt[\"Guidance\"] = 1\n",
        "combined_data = pd.concat([unaugmented_data_melt, augmented_data_melt], ignore_index=True)\n",
        "result = pg.mixed_anova(data=combined_data, dv=\"Score\", within=\"Trial\", subject=\"Bug ID\", between=\"Guidance\")\n",
        "print(result)"
      ]
    }
  ],
  "metadata": {
    "colab": {
      "provenance": []
    },
    "kernelspec": {
      "display_name": "Python 3",
      "name": "python3"
    },
    "language_info": {
      "name": "python"
    }
  },
  "nbformat": 4,
  "nbformat_minor": 0
}
