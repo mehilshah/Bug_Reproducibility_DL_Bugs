{
  "nbformat": 4,
  "nbformat_minor": 0,
  "metadata": {
    "colab": {
      "provenance": []
    },
    "kernelspec": {
      "name": "python3",
      "display_name": "Python 3"
    },
    "language_info": {
      "name": "python"
    }
  },
  "cells": [
    {
      "cell_type": "code",
      "execution_count": null,
      "metadata": {
        "id": "3Y5CiOp880OX"
      },
      "outputs": [],
      "source": [
        "import statsmodels.api as sm\n",
        "import statsmodels.formula.api as smf\n",
        "import pandas as pd\n",
        "import numpy as np\n",
        "\n",
        "df = pd.read_excel('GLM_Dataset.xlsx')\n",
        "df_dummies = pd.get_dummies(df, columns=['DLBugFixExp'])"
      ]
    },
    {
      "cell_type": "code",
      "source": [
        "model = smf.glm('BugReproduced ~ Hints + DLExp + Field + DLBugFixExp_0 + DLBugFixExp_1 + DLBugFixExp_2', family=sm.families.Binomial(), data=df_dummies)\n",
        "result = model.fit()\n",
        "print(result.summary())"
      ],
      "metadata": {
        "colab": {
          "base_uri": "https://localhost:8080/"
        },
        "id": "kc5l7jYRfPk2",
        "outputId": "33dc39cb-1af5-4ab6-8c56-39814b3e70b5"
      },
      "execution_count": null,
      "outputs": [
        {
          "output_type": "stream",
          "name": "stdout",
          "text": [
            "                 Generalized Linear Model Regression Results                  \n",
            "==============================================================================\n",
            "Dep. Variable:          BugReproduced   No. Observations:                   44\n",
            "Model:                            GLM   Df Residuals:                       38\n",
            "Model Family:                Binomial   Df Model:                            5\n",
            "Link Function:                  Logit   Scale:                          1.0000\n",
            "Method:                          IRLS   Log-Likelihood:                -19.903\n",
            "Date:                Wed, 07 Aug 2024   Deviance:                       39.806\n",
            "Time:                        20:28:17   Pearson chi2:                     37.7\n",
            "No. Iterations:                     9   Pseudo R-squ. (CS):             0.3706\n",
            "Covariance Type:            nonrobust                                         \n",
            "=========================================================================================\n",
            "                            coef    std err          z      P>|z|      [0.025      0.975]\n",
            "-----------------------------------------------------------------------------------------\n",
            "Intercept                -3.4229      1.898     -1.803      0.071      -7.143       0.297\n",
            "DLBugFixExp_0[T.True]     0.2251      0.856      0.263      0.793      -1.452       1.903\n",
            "DLBugFixExp_1[T.True]    -0.2449      0.564     -0.435      0.664      -1.349       0.860\n",
            "DLBugFixExp_2[T.True]    -3.4032      2.283     -1.491      0.136      -7.878       1.071\n",
            "Hints                     3.0899      0.991      3.118      0.002       1.147       5.032\n",
            "DLExp                     2.5448      1.725      1.475      0.140      -0.836       5.926\n",
            "Field                     0.1915      1.145      0.167      0.867      -2.052       2.435\n",
            "=========================================================================================\n"
          ]
        }
      ]
    },
    {
      "cell_type": "markdown",
      "source": [
        "### Odd's Ratio"
      ],
      "metadata": {
        "id": "kOMRT87Hg1oH"
      }
    },
    {
      "cell_type": "code",
      "source": [
        "odds_ratios = np.exp(result.params)\n",
        "print(\"Odds Ratios:\")\n",
        "print(odds_ratios)"
      ],
      "metadata": {
        "colab": {
          "base_uri": "https://localhost:8080/"
        },
        "id": "MPGxZhtphQ2j",
        "outputId": "5e1b8a24-9092-4dcd-eb17-f961fd0d6bc0"
      },
      "execution_count": null,
      "outputs": [
        {
          "output_type": "stream",
          "name": "stdout",
          "text": [
            "Odds Ratios:\n",
            "Intercept                 0.032617\n",
            "DLBugFixExp_0[T.True]     1.252493\n",
            "DLBugFixExp_1[T.True]     0.782786\n",
            "DLBugFixExp_2[T.True]     0.033268\n",
            "Hints                    21.974308\n",
            "DLExp                    12.740844\n",
            "Field                     1.211112\n",
            "dtype: float64\n"
          ]
        }
      ]
    }
  ]
}