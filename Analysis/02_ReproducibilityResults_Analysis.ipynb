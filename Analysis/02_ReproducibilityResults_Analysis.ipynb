{
 "cells": [
  {
   "cell_type": "code",
   "execution_count": 1,
   "metadata": {},
   "outputs": [],
   "source": [
    "import pandas as pd\n",
    "import matplotlib.pyplot as plt"
   ]
  },
  {
   "cell_type": "code",
   "execution_count": 3,
   "metadata": {},
   "outputs": [],
   "source": [
    "df = pd.read_csv('../Dataset/Dataset_Manual_Reproduction.csv', index_col=0)\n",
    "df['Time for the Accepted Answer'] = df['Time for the Accepted Answer'].apply(lambda x: x.split(' ')[0])"
   ]
  },
  {
   "cell_type": "code",
   "execution_count": 4,
   "metadata": {},
   "outputs": [
    {
     "name": "stdout",
     "output_type": "stream",
     "text": [
      "Total time taken to reproduce bugs: 6712 mins\n"
     ]
    }
   ],
   "source": [
    "print ('Total time taken to reproduce bugs: {} mins'.format(df['Time Taken'].astype(int).sum()))"
   ]
  },
  {
   "cell_type": "code",
   "execution_count": 135,
   "metadata": {},
   "outputs": [
    {
     "data": {
      "text/html": [
       "<div>\n",
       "<style scoped>\n",
       "    .dataframe tbody tr th:only-of-type {\n",
       "        vertical-align: middle;\n",
       "    }\n",
       "\n",
       "    .dataframe tbody tr th {\n",
       "        vertical-align: top;\n",
       "    }\n",
       "\n",
       "    .dataframe thead th {\n",
       "        text-align: right;\n",
       "    }\n",
       "</style>\n",
       "<table border=\"1\" class=\"dataframe\">\n",
       "  <thead>\n",
       "    <tr style=\"text-align: right;\">\n",
       "      <th></th>\n",
       "      <th>Code Snippet Present?</th>\n",
       "      <th>Reproducible?</th>\n",
       "    </tr>\n",
       "  </thead>\n",
       "  <tbody>\n",
       "    <tr>\n",
       "      <th>Code Snippet Present?</th>\n",
       "      <td>1.000000</td>\n",
       "      <td>0.231869</td>\n",
       "    </tr>\n",
       "    <tr>\n",
       "      <th>Reproducible?</th>\n",
       "      <td>0.231869</td>\n",
       "      <td>1.000000</td>\n",
       "    </tr>\n",
       "  </tbody>\n",
       "</table>\n",
       "</div>"
      ],
      "text/plain": [
       "                       Code Snippet Present?  Reproducible?\n",
       "Code Snippet Present?               1.000000       0.231869\n",
       "Reproducible?                       0.231869       1.000000"
      ]
     },
     "execution_count": 135,
     "metadata": {},
     "output_type": "execute_result"
    }
   ],
   "source": [
    "# Correlation between reproducible and code snippet present\n",
    "df['Code Snippet Present?'] = df['Code Snippet Present?'].apply(lambda x: 1 if x == 'Yes' else 0)\n",
    "df['Reproducible?'] = df['Reproducible?'].apply(lambda x: 1 if x == 'Yes' else 0)\n",
    "\n",
    "df[['Code Snippet Present?', 'Reproducible?']].corr()"
   ]
  },
  {
   "cell_type": "code",
   "execution_count": 136,
   "metadata": {},
   "outputs": [
    {
     "data": {
      "text/html": [
       "<div>\n",
       "<style scoped>\n",
       "    .dataframe tbody tr th:only-of-type {\n",
       "        vertical-align: middle;\n",
       "    }\n",
       "\n",
       "    .dataframe tbody tr th {\n",
       "        vertical-align: top;\n",
       "    }\n",
       "\n",
       "    .dataframe thead th {\n",
       "        text-align: right;\n",
       "    }\n",
       "</style>\n",
       "<table border=\"1\" class=\"dataframe\">\n",
       "  <thead>\n",
       "    <tr style=\"text-align: right;\">\n",
       "      <th></th>\n",
       "      <th>Data Description Present?</th>\n",
       "      <th>Reproducible?</th>\n",
       "    </tr>\n",
       "  </thead>\n",
       "  <tbody>\n",
       "    <tr>\n",
       "      <th>Data Description Present?</th>\n",
       "      <td>1.0000</td>\n",
       "      <td>0.3417</td>\n",
       "    </tr>\n",
       "    <tr>\n",
       "      <th>Reproducible?</th>\n",
       "      <td>0.3417</td>\n",
       "      <td>1.0000</td>\n",
       "    </tr>\n",
       "  </tbody>\n",
       "</table>\n",
       "</div>"
      ],
      "text/plain": [
       "                           Data Description Present?  Reproducible?\n",
       "Data Description Present?                     1.0000         0.3417\n",
       "Reproducible?                                 0.3417         1.0000"
      ]
     },
     "execution_count": 136,
     "metadata": {},
     "output_type": "execute_result"
    }
   ],
   "source": [
    "# Correlation between reproducible and data description present\n",
    "df['Data Description Present?'] = df['Data Description Present?'].apply(lambda x: 1 if x == 'Yes' else 0)\n",
    "df[['Data Description Present?', 'Reproducible?']].corr()"
   ]
  },
  {
   "cell_type": "code",
   "execution_count": 137,
   "metadata": {},
   "outputs": [
    {
     "data": {
      "text/html": [
       "<div>\n",
       "<style scoped>\n",
       "    .dataframe tbody tr th:only-of-type {\n",
       "        vertical-align: middle;\n",
       "    }\n",
       "\n",
       "    .dataframe tbody tr th {\n",
       "        vertical-align: top;\n",
       "    }\n",
       "\n",
       "    .dataframe thead th {\n",
       "        text-align: right;\n",
       "    }\n",
       "</style>\n",
       "<table border=\"1\" class=\"dataframe\">\n",
       "  <thead>\n",
       "    <tr style=\"text-align: right;\">\n",
       "      <th></th>\n",
       "      <th>System Configuration Present?</th>\n",
       "      <th>Reproducible?</th>\n",
       "    </tr>\n",
       "  </thead>\n",
       "  <tbody>\n",
       "    <tr>\n",
       "      <th>System Configuration Present?</th>\n",
       "      <td>1.000000</td>\n",
       "      <td>-0.180702</td>\n",
       "    </tr>\n",
       "    <tr>\n",
       "      <th>Reproducible?</th>\n",
       "      <td>-0.180702</td>\n",
       "      <td>1.000000</td>\n",
       "    </tr>\n",
       "  </tbody>\n",
       "</table>\n",
       "</div>"
      ],
      "text/plain": [
       "                               System Configuration Present?  Reproducible?\n",
       "System Configuration Present?                       1.000000      -0.180702\n",
       "Reproducible?                                      -0.180702       1.000000"
      ]
     },
     "execution_count": 137,
     "metadata": {},
     "output_type": "execute_result"
    }
   ],
   "source": [
    "# Correlation between reproducible and system configuration\n",
    "df['System Configuration Present?'] = df['System Configuration Present?'].apply(lambda x: 1 if x == 'Yes' else 0)\n",
    "df[['System Configuration Present?', 'Reproducible?']].corr()"
   ]
  },
  {
   "cell_type": "code",
   "execution_count": 138,
   "metadata": {},
   "outputs": [
    {
     "data": {
      "text/plain": [
       "Framework\n",
       "TF + Keras    68\n",
       "PyTorch       34\n",
       "Name: count, dtype: int64"
      ]
     },
     "execution_count": 138,
     "metadata": {},
     "output_type": "execute_result"
    }
   ],
   "source": [
    "# Get the Framework Distribution\n",
    "df['Framework'].value_counts()"
   ]
  },
  {
   "cell_type": "code",
   "execution_count": 139,
   "metadata": {},
   "outputs": [
    {
     "data": {
      "text/plain": [
       "Type of Bug           Type of Bug           Reproducible?\n",
       "API Bug               API Bug               0                 15.384615\n",
       "                                            1                 84.615385\n",
       "GPU Bug               GPU Bug               0                 57.142857\n",
       "                                            1                 42.857143\n",
       "Mixed Bug             Mixed Bug             1                100.000000\n",
       "Model Bug             Model Bug             0                 13.043478\n",
       "                                            1                 86.956522\n",
       "Tensor and Input Bug  Tensor and Input Bug  0                 19.230769\n",
       "                                            1                 80.769231\n",
       "Training Bug          Training Bug          0                 10.344828\n",
       "                                            1                 89.655172\n",
       "dtype: float64"
      ]
     },
     "execution_count": 139,
     "metadata": {},
     "output_type": "execute_result"
    }
   ],
   "source": [
    "df['Type of Bug'].value_counts()\n",
    "df.groupby(['Type of Bug', 'Reproducible?']).size().groupby(level=0).apply(lambda x: 100 * x / float(x.sum()))"
   ]
  },
  {
   "cell_type": "code",
   "execution_count": 140,
   "metadata": {},
   "outputs": [
    {
     "data": {
      "text/plain": [
       "Architecture            Architecture            Reproducible?\n",
       "-                       -                       0                 21.739130\n",
       "                                                1                 78.260870\n",
       "Attention               Attention               1                100.000000\n",
       "Autoencoder             Autoencoder             0                 50.000000\n",
       "                                                1                 50.000000\n",
       "BERT                    BERT                    1                100.000000\n",
       "CNN                     CNN                     0                 18.181818\n",
       "                                                1                 81.818182\n",
       "DenseNet                DenseNet                0                100.000000\n",
       "GAN                     GAN                     1                100.000000\n",
       "Gaussian Mixture Model  Gaussian Mixture Model  1                100.000000\n",
       "LR                      LR                      1                100.000000\n",
       "LSTM                    LSTM                    0                 33.333333\n",
       "                                                1                 66.666667\n",
       "LSTM + MLP              LSTM + MLP              1                100.000000\n",
       "MLP                     MLP                     0                 17.857143\n",
       "                                                1                 82.142857\n",
       "NLP                     NLP                     1                100.000000\n",
       "RCNN                    RCNN                    1                100.000000\n",
       "ResNet                  ResNet                  1                100.000000\n",
       "Transfer Learning       Transfer Learning       1                100.000000\n",
       "Transformers            Transformers            1                100.000000\n",
       "VGG16                   VGG16                   1                100.000000\n",
       "VGG19                   VGG19                   1                100.000000\n",
       "Variational RNN         Variational RNN         1                100.000000\n",
       "dtype: float64"
      ]
     },
     "execution_count": 140,
     "metadata": {},
     "output_type": "execute_result"
    }
   ],
   "source": [
    "df['Architecture'].value_counts()\n",
    "df.groupby(['Architecture', 'Reproducible?']).size().groupby(level=0).apply(lambda x: 100 * x / float(x.sum()))"
   ]
  },
  {
   "cell_type": "code",
   "execution_count": 141,
   "metadata": {},
   "outputs": [
    {
     "data": {
      "text/html": [
       "<div>\n",
       "<style scoped>\n",
       "    .dataframe tbody tr th:only-of-type {\n",
       "        vertical-align: middle;\n",
       "    }\n",
       "\n",
       "    .dataframe tbody tr th {\n",
       "        vertical-align: top;\n",
       "    }\n",
       "\n",
       "    .dataframe thead th {\n",
       "        text-align: right;\n",
       "    }\n",
       "</style>\n",
       "<table border=\"1\" class=\"dataframe\">\n",
       "  <thead>\n",
       "    <tr style=\"text-align: right;\">\n",
       "      <th></th>\n",
       "      <th>Time for the Accepted Answer</th>\n",
       "      <th>Time Taken</th>\n",
       "    </tr>\n",
       "  </thead>\n",
       "  <tbody>\n",
       "    <tr>\n",
       "      <th>Time for the Accepted Answer</th>\n",
       "      <td>1.000000</td>\n",
       "      <td>-0.102317</td>\n",
       "    </tr>\n",
       "    <tr>\n",
       "      <th>Time Taken</th>\n",
       "      <td>-0.102317</td>\n",
       "      <td>1.000000</td>\n",
       "    </tr>\n",
       "  </tbody>\n",
       "</table>\n",
       "</div>"
      ],
      "text/plain": [
       "                              Time for the Accepted Answer  Time Taken\n",
       "Time for the Accepted Answer                      1.000000   -0.102317\n",
       "Time Taken                                       -0.102317    1.000000"
      ]
     },
     "execution_count": 141,
     "metadata": {},
     "output_type": "execute_result"
    }
   ],
   "source": [
    "# Correlation between accepted answer and time taken\n",
    "df[['Time for the Accepted Answer', 'Time Taken']].corr()"
   ]
  },
  {
   "cell_type": "markdown",
   "metadata": {},
   "source": [
    "### Analysis by Bug Type"
   ]
  },
  {
   "cell_type": "code",
   "execution_count": 142,
   "metadata": {},
   "outputs": [],
   "source": [
    "df = df[df['Reproducible?'] == 1]\n",
    "unique_bug_types = df['Type of Bug'].unique()"
   ]
  },
  {
   "cell_type": "code",
   "execution_count": 143,
   "metadata": {},
   "outputs": [],
   "source": [
    "training_bugs = df[df['Type of Bug'] == 'Training Bug']\n",
    "model_bugs = df[df['Type of Bug'] == 'Model Bug']\n",
    "api_bugs = df[df['Type of Bug'] == 'API Bug']\n",
    "tensor_bugs = df[df['Type of Bug'] == 'Tensor and Input Bug']\n",
    "gpu_bugs = df[df['Type of Bug'] == 'GPU Bug']\n",
    "mixed_bugs = df[df['Type of Bug'] == 'Mixed Bug']\n"
   ]
  },
  {
   "cell_type": "code",
   "execution_count": 144,
   "metadata": {},
   "outputs": [
    {
     "name": "stdout",
     "output_type": "stream",
     "text": [
      "Unique architectures for Training Bugs:  ['MLP' 'CNN' '-' 'LSTM' 'ResNet' 'RCNN' 'Transfer Learning' 'Autoencoder']\n",
      "Unique architectures for Model Bugs:  ['MLP' 'CNN' 'VGG16' 'Transformers' 'LSTM + MLP' 'Attention' 'BERT'\n",
      " 'Gaussian Mixture Model']\n",
      "Unique architectures for API Bugs:  ['-' 'MLP' 'GAN' 'Variational RNN' 'CNN' 'Transformers' 'VGG19']\n",
      "Unique architectures for Tensor and Input Bugs:  ['CNN' 'MLP' '-' 'LR' 'ResNet' 'GAN' 'NLP']\n",
      "Unique architectures for GPU Bugs:  ['-']\n",
      "Unique architectures for Mixed Bugs:  ['-' 'LR' 'CNN']\n"
     ]
    }
   ],
   "source": [
    "print ('Unique architectures for Training Bugs: ', training_bugs['Architecture'].unique())\n",
    "print ('Unique architectures for Model Bugs: ', model_bugs['Architecture'].unique())\n",
    "print ('Unique architectures for API Bugs: ', api_bugs['Architecture'].unique())\n",
    "print ('Unique architectures for Tensor and Input Bugs: ', tensor_bugs['Architecture'].unique())\n",
    "print ('Unique architectures for GPU Bugs: ', gpu_bugs['Architecture'].unique())\n",
    "print ('Unique architectures for Mixed Bugs: ', mixed_bugs['Architecture'].unique())"
   ]
  }
 ],
 "metadata": {
  "kernelspec": {
   "display_name": "venv",
   "language": "python",
   "name": "python3"
  },
  "language_info": {
   "codemirror_mode": {
    "name": "ipython",
    "version": 3
   },
   "file_extension": ".py",
   "mimetype": "text/x-python",
   "name": "python",
   "nbconvert_exporter": "python",
   "pygments_lexer": "ipython3",
   "version": "3.10.4"
  },
  "orig_nbformat": 4
 },
 "nbformat": 4,
 "nbformat_minor": 2
}
